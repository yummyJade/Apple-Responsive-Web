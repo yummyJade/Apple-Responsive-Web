{
  "cells": [
    {
      "cell_type": "markdown",
      "metadata": {
        "id": "view-in-github",
        "colab_type": "text"
      },
      "source": [
        "<a href=\"https://colab.research.google.com/github/yummyJade/Apple-Responsive-Web/blob/master/PixelRL-SR.ipynb\" target=\"_parent\"><img src=\"https://colab.research.google.com/assets/colab-badge.svg\" alt=\"Open In Colab\"/></a>"
      ]
    },
    {
      "cell_type": "markdown",
      "metadata": {
        "id": "BSIOX9FkHia1"
      },
      "source": [
        "# **Mount drive**"
      ]
    },
    {
      "cell_type": "code",
      "execution_count": 3,
      "metadata": {
        "id": "yCloRCJUo4ID",
        "outputId": "0de9b35c-3fb3-47e0-91a6-5f5bb5916f48",
        "colab": {
          "base_uri": "https://localhost:8080/",
          "height": 365
        }
      },
      "outputs": [
        {
          "output_type": "error",
          "ename": "MessageError",
          "evalue": "Error: credential propagation was unsuccessful",
          "traceback": [
            "\u001b[0;31m---------------------------------------------------------------------------\u001b[0m",
            "\u001b[0;31mMessageError\u001b[0m                              Traceback (most recent call last)",
            "\u001b[0;32m<ipython-input-3-d5df0069828e>\u001b[0m in \u001b[0;36m<cell line: 2>\u001b[0;34m()\u001b[0m\n\u001b[1;32m      1\u001b[0m \u001b[0;32mfrom\u001b[0m \u001b[0mgoogle\u001b[0m\u001b[0;34m.\u001b[0m\u001b[0mcolab\u001b[0m \u001b[0;32mimport\u001b[0m \u001b[0mdrive\u001b[0m\u001b[0;34m\u001b[0m\u001b[0;34m\u001b[0m\u001b[0m\n\u001b[0;32m----> 2\u001b[0;31m \u001b[0mdrive\u001b[0m\u001b[0;34m.\u001b[0m\u001b[0mmount\u001b[0m\u001b[0;34m(\u001b[0m\u001b[0;34m'/content/drive'\u001b[0m\u001b[0;34m)\u001b[0m\u001b[0;34m\u001b[0m\u001b[0;34m\u001b[0m\u001b[0m\n\u001b[0m",
            "\u001b[0;32m/usr/local/lib/python3.10/dist-packages/google/colab/drive.py\u001b[0m in \u001b[0;36mmount\u001b[0;34m(mountpoint, force_remount, timeout_ms, readonly)\u001b[0m\n\u001b[1;32m     98\u001b[0m \u001b[0;32mdef\u001b[0m \u001b[0mmount\u001b[0m\u001b[0;34m(\u001b[0m\u001b[0mmountpoint\u001b[0m\u001b[0;34m,\u001b[0m \u001b[0mforce_remount\u001b[0m\u001b[0;34m=\u001b[0m\u001b[0;32mFalse\u001b[0m\u001b[0;34m,\u001b[0m \u001b[0mtimeout_ms\u001b[0m\u001b[0;34m=\u001b[0m\u001b[0;36m120000\u001b[0m\u001b[0;34m,\u001b[0m \u001b[0mreadonly\u001b[0m\u001b[0;34m=\u001b[0m\u001b[0;32mFalse\u001b[0m\u001b[0;34m)\u001b[0m\u001b[0;34m:\u001b[0m\u001b[0;34m\u001b[0m\u001b[0;34m\u001b[0m\u001b[0m\n\u001b[1;32m     99\u001b[0m   \u001b[0;34m\"\"\"Mount your Google Drive at the specified mountpoint path.\"\"\"\u001b[0m\u001b[0;34m\u001b[0m\u001b[0;34m\u001b[0m\u001b[0m\n\u001b[0;32m--> 100\u001b[0;31m   return _mount(\n\u001b[0m\u001b[1;32m    101\u001b[0m       \u001b[0mmountpoint\u001b[0m\u001b[0;34m,\u001b[0m\u001b[0;34m\u001b[0m\u001b[0;34m\u001b[0m\u001b[0m\n\u001b[1;32m    102\u001b[0m       \u001b[0mforce_remount\u001b[0m\u001b[0;34m=\u001b[0m\u001b[0mforce_remount\u001b[0m\u001b[0;34m,\u001b[0m\u001b[0;34m\u001b[0m\u001b[0;34m\u001b[0m\u001b[0m\n",
            "\u001b[0;32m/usr/local/lib/python3.10/dist-packages/google/colab/drive.py\u001b[0m in \u001b[0;36m_mount\u001b[0;34m(mountpoint, force_remount, timeout_ms, ephemeral, readonly)\u001b[0m\n\u001b[1;32m    135\u001b[0m   )\n\u001b[1;32m    136\u001b[0m   \u001b[0;32mif\u001b[0m \u001b[0mephemeral\u001b[0m\u001b[0;34m:\u001b[0m\u001b[0;34m\u001b[0m\u001b[0;34m\u001b[0m\u001b[0m\n\u001b[0;32m--> 137\u001b[0;31m     _message.blocking_request(\n\u001b[0m\u001b[1;32m    138\u001b[0m         \u001b[0;34m'request_auth'\u001b[0m\u001b[0;34m,\u001b[0m\u001b[0;34m\u001b[0m\u001b[0;34m\u001b[0m\u001b[0m\n\u001b[1;32m    139\u001b[0m         \u001b[0mrequest\u001b[0m\u001b[0;34m=\u001b[0m\u001b[0;34m{\u001b[0m\u001b[0;34m'authType'\u001b[0m\u001b[0;34m:\u001b[0m \u001b[0;34m'dfs_ephemeral'\u001b[0m\u001b[0;34m}\u001b[0m\u001b[0;34m,\u001b[0m\u001b[0;34m\u001b[0m\u001b[0;34m\u001b[0m\u001b[0m\n",
            "\u001b[0;32m/usr/local/lib/python3.10/dist-packages/google/colab/_message.py\u001b[0m in \u001b[0;36mblocking_request\u001b[0;34m(request_type, request, timeout_sec, parent)\u001b[0m\n\u001b[1;32m    174\u001b[0m       \u001b[0mrequest_type\u001b[0m\u001b[0;34m,\u001b[0m \u001b[0mrequest\u001b[0m\u001b[0;34m,\u001b[0m \u001b[0mparent\u001b[0m\u001b[0;34m=\u001b[0m\u001b[0mparent\u001b[0m\u001b[0;34m,\u001b[0m \u001b[0mexpect_reply\u001b[0m\u001b[0;34m=\u001b[0m\u001b[0;32mTrue\u001b[0m\u001b[0;34m\u001b[0m\u001b[0;34m\u001b[0m\u001b[0m\n\u001b[1;32m    175\u001b[0m   )\n\u001b[0;32m--> 176\u001b[0;31m   \u001b[0;32mreturn\u001b[0m \u001b[0mread_reply_from_input\u001b[0m\u001b[0;34m(\u001b[0m\u001b[0mrequest_id\u001b[0m\u001b[0;34m,\u001b[0m \u001b[0mtimeout_sec\u001b[0m\u001b[0;34m)\u001b[0m\u001b[0;34m\u001b[0m\u001b[0;34m\u001b[0m\u001b[0m\n\u001b[0m",
            "\u001b[0;32m/usr/local/lib/python3.10/dist-packages/google/colab/_message.py\u001b[0m in \u001b[0;36mread_reply_from_input\u001b[0;34m(message_id, timeout_sec)\u001b[0m\n\u001b[1;32m    101\u001b[0m     ):\n\u001b[1;32m    102\u001b[0m       \u001b[0;32mif\u001b[0m \u001b[0;34m'error'\u001b[0m \u001b[0;32min\u001b[0m \u001b[0mreply\u001b[0m\u001b[0;34m:\u001b[0m\u001b[0;34m\u001b[0m\u001b[0;34m\u001b[0m\u001b[0m\n\u001b[0;32m--> 103\u001b[0;31m         \u001b[0;32mraise\u001b[0m \u001b[0mMessageError\u001b[0m\u001b[0;34m(\u001b[0m\u001b[0mreply\u001b[0m\u001b[0;34m[\u001b[0m\u001b[0;34m'error'\u001b[0m\u001b[0;34m]\u001b[0m\u001b[0;34m)\u001b[0m\u001b[0;34m\u001b[0m\u001b[0;34m\u001b[0m\u001b[0m\n\u001b[0m\u001b[1;32m    104\u001b[0m       \u001b[0;32mreturn\u001b[0m \u001b[0mreply\u001b[0m\u001b[0;34m.\u001b[0m\u001b[0mget\u001b[0m\u001b[0;34m(\u001b[0m\u001b[0;34m'data'\u001b[0m\u001b[0;34m,\u001b[0m \u001b[0;32mNone\u001b[0m\u001b[0;34m)\u001b[0m\u001b[0;34m\u001b[0m\u001b[0;34m\u001b[0m\u001b[0m\n\u001b[1;32m    105\u001b[0m \u001b[0;34m\u001b[0m\u001b[0m\n",
            "\u001b[0;31mMessageError\u001b[0m: Error: credential propagation was unsuccessful"
          ]
        }
      ],
      "source": [
        "from google.colab import drive\n",
        "drive.mount('/content/drive')"
      ]
    },
    {
      "cell_type": "markdown",
      "metadata": {
        "id": "0qFuIBWYtEA-"
      },
      "source": [
        "# **Train**"
      ]
    },
    {
      "cell_type": "code",
      "execution_count": 4,
      "metadata": {
        "id": "PPCGdKig5vk2",
        "outputId": "6fe0eae8-7991-425a-8ee9-51c03ae7a6f1",
        "colab": {
          "base_uri": "https://localhost:8080/"
        }
      },
      "outputs": [
        {
          "output_type": "stream",
          "name": "stdout",
          "text": [
            "Cloning into 'PixelRL-SR'...\n",
            "remote: Enumerating objects: 721, done.\u001b[K\n",
            "remote: Counting objects: 100% (13/13), done.\u001b[K\n",
            "remote: Compressing objects: 100% (8/8), done.\u001b[K\n",
            "remote: Total 721 (delta 6), reused 11 (delta 5), pack-reused 708 (from 1)\u001b[K\n",
            "Receiving objects: 100% (721/721), 157.57 MiB | 43.06 MiB/s, done.\n",
            "Resolving deltas: 100% (144/144), done.\n"
          ]
        }
      ],
      "source": [
        "!git clone https://github.com/Nhat-Thanh/PixelRL-SR.git"
      ]
    },
    {
      "cell_type": "code",
      "execution_count": 5,
      "metadata": {
        "id": "ObSYDegp522L",
        "outputId": "4f7869ef-5e01-4abc-e4c6-1e32da4de4fa",
        "colab": {
          "base_uri": "https://localhost:8080/"
        }
      },
      "outputs": [
        {
          "output_type": "stream",
          "name": "stdout",
          "text": [
            "/content/PixelRL-SR\n"
          ]
        }
      ],
      "source": [
        "%cd /content/PixelRL-SR/"
      ]
    },
    {
      "cell_type": "code",
      "execution_count": 6,
      "metadata": {
        "id": "a3UcoGtD6nlu",
        "outputId": "d1654b17-a1ea-4b31-8b36-f2230ad8c065",
        "colab": {
          "base_uri": "https://localhost:8080/"
        }
      },
      "outputs": [
        {
          "output_type": "stream",
          "name": "stdout",
          "text": [
            "Already up to date.\n"
          ]
        }
      ],
      "source": [
        "!git pull"
      ]
    },
    {
      "cell_type": "code",
      "execution_count": null,
      "metadata": {
        "id": "O5z4mxsO6DOM",
        "outputId": "2f4c51d8-dfc5-45a2-f38e-3229f9ca8b69",
        "colab": {
          "base_uri": "https://localhost:8080/"
        }
      },
      "outputs": [
        {
          "output_type": "stream",
          "name": "stdout",
          "text": [
            "dataset/train/100075.png\n",
            "dataset/train/100080.png\n",
            "dataset/train/100098.png\n",
            "dataset/train/103041.png\n",
            "dataset/train/104022.png\n",
            "dataset/train/105019.png\n",
            "dataset/train/105053.png\n",
            "dataset/train/106020.png\n",
            "dataset/train/106025.png\n",
            "dataset/train/108041.png\n",
            "dataset/train/108073.png\n",
            "dataset/train/109034.png\n",
            "dataset/train/112082.png\n",
            "dataset/train/113009.png\n",
            "dataset/train/113016.png\n",
            "dataset/train/113044.png\n",
            "dataset/train/117054.png\n",
            "dataset/train/118020.png\n",
            "dataset/train/118035.png\n",
            "dataset/train/12003.png\n",
            "dataset/train/12074.png\n",
            "dataset/train/122048.png\n",
            "dataset/train/124084.png\n",
            "dataset/train/126039.png\n",
            "dataset/train/130034.png\n",
            "dataset/train/134008.png\n",
            "dataset/train/134052.png\n",
            "dataset/train/135037.png\n",
            "dataset/train/135069.png\n",
            "dataset/train/138032.png\n",
            "dataset/train/138078.png\n",
            "dataset/train/140055.png\n",
            "dataset/train/140075.png\n",
            "dataset/train/144067.png\n",
            "dataset/train/145014.png\n",
            "dataset/train/145053.png\n",
            "dataset/train/147021.png\n",
            "dataset/train/147062.png\n",
            "dataset/train/15004.png\n",
            "dataset/train/15088.png\n",
            "dataset/train/151087.png\n",
            "dataset/train/153077.png\n",
            "dataset/train/153093.png\n",
            "dataset/train/155060.png\n",
            "dataset/train/156079.png\n",
            "dataset/train/157036.png\n",
            "dataset/train/159029.png\n",
            "dataset/train/159045.png\n",
            "dataset/train/159091.png\n",
            "dataset/train/16052.png\n",
            "dataset/train/161062.png\n",
            "dataset/train/163014.png\n",
            "dataset/train/163062.png\n",
            "dataset/train/164074.png\n",
            "dataset/train/166081.png\n",
            "dataset/train/169012.png\n",
            "dataset/train/170054.png\n",
            "dataset/train/172032.png\n",
            "dataset/train/173036.png\n",
            "dataset/train/176019.png\n",
            "dataset/train/176035.png\n",
            "dataset/train/176039.png\n",
            "dataset/train/178054.png\n",
            "dataset/train/181018.png\n",
            "dataset/train/181079.png\n",
            "dataset/train/181091.png\n",
            "dataset/train/183055.png\n",
            "dataset/train/183087.png\n",
            "dataset/train/187003.png\n",
            "dataset/train/187029.png\n",
            "dataset/train/187039.png\n",
            "dataset/train/187071.png\n",
            "dataset/train/187083.png\n",
            "dataset/train/188005.png\n",
            "dataset/train/188063.png\n",
            "dataset/train/188091.png\n",
            "dataset/train/189003.png\n",
            "dataset/train/189011.png\n",
            "dataset/train/196015.png\n",
            "dataset/train/198004.png\n",
            "dataset/train/198023.png\n",
            "dataset/train/198054.png\n",
            "dataset/train/20008.png\n",
            "dataset/train/202012.png\n",
            "dataset/train/207056.png\n",
            "dataset/train/209070.png\n",
            "dataset/train/2092.png\n",
            "dataset/train/216041.png\n",
            "dataset/train/216053.png\n",
            "dataset/train/216066.png\n",
            "dataset/train/22013.png\n",
            "dataset/train/22090.png\n",
            "dataset/train/22093.png\n",
            "dataset/train/225017.png\n",
            "dataset/train/227040.png\n",
            "dataset/train/227046.png\n",
            "dataset/train/23025.png\n",
            "dataset/train/23080.png\n",
            "dataset/train/23084.png\n",
            "dataset/train/231015.png\n",
            "dataset/train/232038.png\n",
            "dataset/train/236017.png\n",
            "dataset/train/238011.png\n",
            "dataset/train/239007.png\n",
            "dataset/train/239096.png\n",
            "dataset/train/24004.png\n",
            "dataset/train/24063.png\n",
            "dataset/train/242078.png\n",
            "dataset/train/245051.png\n",
            "dataset/train/246016.png\n",
            "dataset/train/246053.png\n",
            "dataset/train/247085.png\n",
            "dataset/train/249061.png\n",
            "dataset/train/249087.png\n",
            "dataset/train/25098.png\n",
            "dataset/train/253036.png\n",
            "dataset/train/254033.png\n",
            "dataset/train/254054.png\n",
            "dataset/train/260081.png\n",
            "dataset/train/26031.png\n",
            "dataset/train/268002.png\n",
            "dataset/train/27059.png\n",
            "dataset/train/271008.png\n",
            "dataset/train/271031.png\n",
            "dataset/train/274007.png\n",
            "dataset/train/277095.png\n",
            "dataset/train/28075.png\n",
            "dataset/train/28096.png\n",
            "dataset/train/285036.png\n",
            "dataset/train/286092.png\n",
            "dataset/train/292066.png\n",
            "dataset/train/293029.png\n",
            "dataset/train/299091.png\n",
            "dataset/train/301007.png\n",
            "dataset/train/302003.png\n",
            "dataset/train/309004.png\n",
            "dataset/train/310007.png\n",
            "dataset/train/311068.png\n",
            "dataset/train/311081.png\n",
            "dataset/train/314016.png\n",
            "dataset/train/317080.png\n",
            "dataset/train/323016.png\n",
            "dataset/train/326038.png\n",
            "dataset/train/33066.png\n",
            "dataset/train/35008.png\n",
            "dataset/train/35010.png\n",
            "dataset/train/35058.png\n",
            "dataset/train/35070.png\n",
            "dataset/train/35091.png\n",
            "dataset/train/353013.png\n",
            "dataset/train/361084.png\n",
            "dataset/train/365025.png\n",
            "dataset/train/365073.png\n",
            "dataset/train/368016.png\n",
            "dataset/train/368078.png\n",
            "dataset/train/370036.png\n",
            "dataset/train/372047.png\n",
            "dataset/train/374020.png\n",
            "dataset/train/374067.png\n",
            "dataset/train/376001.png\n",
            "dataset/train/376020.png\n",
            "dataset/train/385028.png\n",
            "dataset/train/388016.png\n",
            "dataset/train/41004.png\n",
            "dataset/train/41025.png\n",
            "dataset/train/42044.png\n",
            "dataset/train/42078.png\n",
            "dataset/train/43070.png\n",
            "dataset/train/43083.png\n",
            "dataset/train/45077.png\n",
            "dataset/train/46076.png\n",
            "dataset/train/48055.png\n",
            "dataset/train/54005.png\n",
            "dataset/train/55067.png\n",
            "dataset/train/55075.png\n",
            "dataset/train/56028.png\n",
            "dataset/train/59078.png\n",
            "dataset/train/60079.png\n",
            "dataset/train/61060.png\n",
            "dataset/train/61086.png\n",
            "dataset/train/65010.png\n",
            "dataset/train/65019.png\n",
            "dataset/train/65074.png\n",
            "dataset/train/65132.png\n",
            "dataset/train/66039.png\n",
            "dataset/train/66075.png\n",
            "dataset/train/67079.png\n",
            "dataset/train/68077.png\n",
            "dataset/train/71046.png\n",
            "dataset/train/76002.png\n",
            "dataset/train/78019.png\n",
            "dataset/train/80099.png\n",
            "dataset/train/8049.png\n",
            "dataset/train/8143.png\n",
            "dataset/train/87065.png\n",
            "dataset/train/90076.png\n",
            "dataset/train/92059.png\n",
            "dataset/train/94079.png\n",
            "dataset/train/95006.png\n",
            "dataset/train/97017.png\n",
            "dataset/train/im_001.png\n",
            "dataset/train/im_002.png\n",
            "dataset/train/im_003.png\n",
            "dataset/train/im_004.png\n",
            "dataset/train/im_005.png\n",
            "dataset/train/im_006.png\n",
            "dataset/train/im_007.png\n",
            "dataset/train/im_008.png\n",
            "dataset/train/im_009.png\n",
            "dataset/train/im_010.png\n",
            "dataset/train/im_011.png\n",
            "dataset/train/im_012.png\n",
            "dataset/train/im_013.png\n",
            "dataset/train/im_014.png\n",
            "dataset/train/im_015.png\n",
            "dataset/train/im_016.png\n",
            "dataset/train/im_017.png\n",
            "dataset/train/im_018.png\n",
            "dataset/train/im_019.png\n",
            "dataset/train/im_020.png\n",
            "dataset/train/im_021.png\n",
            "dataset/train/im_022.png\n",
            "dataset/train/im_023.png\n",
            "dataset/train/im_024.png\n",
            "dataset/train/im_025.png\n",
            "dataset/train/im_026.png\n",
            "dataset/train/im_027.png\n",
            "dataset/train/im_028.png\n",
            "dataset/train/im_029.png\n",
            "dataset/train/im_030.png\n",
            "dataset/train/im_031.png\n",
            "dataset/train/im_032.png\n",
            "dataset/train/im_033.png\n",
            "dataset/train/im_034.png\n",
            "dataset/train/im_035.png\n",
            "dataset/train/im_036.png\n",
            "dataset/train/im_037.png\n",
            "dataset/train/im_038.png\n",
            "dataset/train/im_039.png\n",
            "dataset/train/im_040.png\n",
            "dataset/train/im_041.png\n",
            "dataset/train/im_042.png\n",
            "dataset/train/im_043.png\n",
            "dataset/train/im_044.png\n",
            "dataset/train/im_045.png\n",
            "dataset/train/im_046.png\n",
            "dataset/train/im_047.png\n",
            "dataset/train/im_048.png\n",
            "dataset/train/im_049.png\n",
            "dataset/train/im_050.png\n",
            "dataset/train/im_051.png\n",
            "dataset/train/im_052.png\n",
            "dataset/train/im_053.png\n",
            "dataset/train/im_054.png\n",
            "dataset/train/im_055.png\n",
            "dataset/train/im_056.png\n",
            "dataset/train/im_057.png\n",
            "dataset/train/im_058.png\n",
            "dataset/train/im_059.png\n",
            "dataset/train/im_060.png\n",
            "dataset/train/im_061.png\n",
            "dataset/train/im_062.png\n",
            "dataset/train/im_063.png\n",
            "dataset/train/im_064.png\n",
            "dataset/train/im_065.png\n",
            "dataset/train/im_066.png\n",
            "dataset/train/im_067.png\n",
            "dataset/train/im_068.png\n",
            "dataset/train/im_069.png\n",
            "dataset/train/im_070.png\n",
            "dataset/train/im_071.png\n",
            "dataset/train/im_072.png\n",
            "dataset/train/im_073.png\n",
            "dataset/train/im_074.png\n",
            "dataset/train/im_075.png\n",
            "dataset/train/im_076.png\n",
            "dataset/train/im_077.png\n",
            "dataset/train/im_078.png\n",
            "dataset/train/im_079.png\n",
            "dataset/train/im_080.png\n",
            "dataset/train/im_081.png\n",
            "dataset/train/im_082.png\n",
            "dataset/train/im_083.png\n",
            "dataset/train/im_084.png\n",
            "dataset/train/im_085.png\n",
            "dataset/train/im_086.png\n",
            "dataset/train/im_087.png\n",
            "dataset/train/im_088.png\n",
            "dataset/train/im_089.png\n",
            "dataset/train/im_090.png\n",
            "dataset/train/im_091.png\n",
            "dataset/train/im_092.png\n",
            "dataset/train/im_093.png\n",
            "dataset/train/im_094.png\n",
            "dataset/train/im_095.png\n",
            "dataset/train/im_096.png\n",
            "dataset/train/im_097.png\n",
            "dataset/train/im_098.png\n",
            "dataset/train/im_099.png\n",
            "dataset/train/im_100.png\n",
            "dataset/train/t1.png\n",
            "dataset/train/t10.png\n",
            "dataset/train/t11.png\n",
            "dataset/train/t12.png\n",
            "dataset/train/t13.png\n",
            "dataset/train/t14.png\n",
            "dataset/train/t15.png\n",
            "dataset/train/t16.png\n",
            "dataset/train/t17.png\n",
            "dataset/train/t18.png\n",
            "dataset/train/t19.png\n",
            "dataset/train/t2.png\n",
            "dataset/train/t20.png\n",
            "dataset/train/t21.png\n",
            "dataset/train/t22.png\n",
            "dataset/train/t23.png\n",
            "dataset/train/t24.png\n",
            "dataset/train/t25.png\n",
            "dataset/train/t26.png\n",
            "dataset/train/t27.png\n",
            "dataset/train/t28.png\n",
            "dataset/train/t29.png\n",
            "dataset/train/t3.png\n",
            "dataset/train/t30.png\n",
            "dataset/train/t31.png\n",
            "dataset/train/t32.png\n",
            "dataset/train/t33.png\n",
            "dataset/train/t34.png\n",
            "dataset/train/t35.png\n",
            "dataset/train/t36.png\n",
            "dataset/train/t37.png\n",
            "dataset/train/t38.png\n",
            "dataset/train/t39.png\n",
            "dataset/train/t4.png\n",
            "dataset/train/t40.png\n",
            "dataset/train/t42.png\n",
            "dataset/train/t43.png\n",
            "dataset/train/t44.png\n",
            "dataset/train/t45.png\n",
            "dataset/train/t46.png\n",
            "dataset/train/t47.png\n",
            "dataset/train/t48.png\n",
            "dataset/train/t49.png\n",
            "dataset/train/t5.png\n",
            "dataset/train/t50.png\n",
            "dataset/train/t51.png\n",
            "dataset/train/t52.png\n",
            "dataset/train/t53.png\n",
            "dataset/train/t54.png\n",
            "dataset/train/t55.png\n",
            "dataset/train/t56.png\n",
            "dataset/train/t57.png\n",
            "dataset/train/t58.png\n",
            "dataset/train/t59.png\n",
            "dataset/train/t6.png\n",
            "dataset/train/t60.png\n",
            "dataset/train/t61.png\n",
            "dataset/train/t62.png\n",
            "dataset/train/t63.png\n",
            "dataset/train/t64.png\n",
            "dataset/train/t65.png\n",
            "dataset/train/t66.png\n",
            "dataset/train/t7.png\n",
            "dataset/train/t8.png\n",
            "dataset/train/t9.png\n",
            "dataset/train/tt1.png\n",
            "dataset/train/tt10.png\n",
            "dataset/train/tt12.png\n",
            "dataset/train/tt13.png\n",
            "dataset/train/tt14.png\n",
            "dataset/train/tt15.png\n",
            "dataset/train/tt16.png\n",
            "dataset/train/tt17.png\n",
            "dataset/train/tt18.png\n",
            "dataset/train/tt19.png\n",
            "dataset/train/tt2.png\n",
            "dataset/train/tt20.png\n",
            "dataset/train/tt21.png\n",
            "dataset/train/tt22.png\n",
            "dataset/train/tt23.png\n",
            "dataset/train/tt24.png\n",
            "dataset/train/tt25.png\n",
            "dataset/train/tt26.png\n",
            "dataset/train/tt27.png\n",
            "dataset/train/tt3.png\n",
            "dataset/train/tt4.png\n",
            "dataset/train/tt5.png\n",
            "dataset/train/tt6.png\n",
            "dataset/train/tt7.png\n",
            "dataset/train/tt8.png\n",
            "dataset/train/tt9.png\n",
            "dataset/validation/img_001_SRF_4_HR.png\n",
            "dataset/validation/img_002_SRF_4_HR.png\n",
            "dataset/validation/img_003_SRF_4_HR.png\n",
            "dataset/validation/img_004_SRF_4_HR.png\n",
            "dataset/validation/img_005_SRF_4_HR.png\n",
            "dataset/validation/img_006_SRF_4_HR.png\n",
            "dataset/validation/img_007_SRF_4_HR.png\n",
            "dataset/validation/img_008_SRF_4_HR.png\n",
            "dataset/validation/img_009_SRF_4_HR.png\n",
            "dataset/validation/img_010_SRF_4_HR.png\n",
            "dataset/validation/img_011_SRF_4_HR.png\n",
            "dataset/validation/img_012_SRF_4_HR.png\n",
            "dataset/validation/img_013_SRF_4_HR.png\n",
            "dataset/validation/img_014_SRF_4_HR.png\n",
            "/content/PixelRL-SR/State.py:16: FutureWarning: You are using `torch.load` with `weights_only=False` (the current default value), which uses the default pickle module implicitly. It is possible to construct malicious pickle data which will execute arbitrary code during unpickling (See https://github.com/pytorch/pytorch/blob/main/SECURITY.md#untrusted-models for more details). In a future release, the default value for `weights_only` will be flipped to `True`. This limits the functions that could be executed during unpickling. Arbitrary objects will no longer be allowed to be loaded via this mode unless they are explicitly allowlisted by the user via `torch.serialization.add_safe_globals`. We recommend you start setting `weights_only=True` for any use case where you don't have full control of the loaded file. Please open an issue on GitHub for any issues related to this experimental feature.\n",
            "  self.SRCNN.load_state_dict(torch.load(model_path, dev))\n",
            "/content/PixelRL-SR/State.py:21: FutureWarning: You are using `torch.load` with `weights_only=False` (the current default value), which uses the default pickle module implicitly. It is possible to construct malicious pickle data which will execute arbitrary code during unpickling (See https://github.com/pytorch/pytorch/blob/main/SECURITY.md#untrusted-models for more details). In a future release, the default value for `weights_only` will be flipped to `True`. This limits the functions that could be executed during unpickling. Arbitrary objects will no longer be allowed to be loaded via this mode unless they are explicitly allowlisted by the user via `torch.serialization.add_safe_globals`. We recommend you start setting `weights_only=True` for any use case where you don't have full control of the loaded file. Please open an issue on GitHub for any issues related to this experimental feature.\n",
            "  self.FSRCNN.load_state_dict(torch.load(model_path, dev))\n",
            "/content/PixelRL-SR/State.py:26: FutureWarning: You are using `torch.load` with `weights_only=False` (the current default value), which uses the default pickle module implicitly. It is possible to construct malicious pickle data which will execute arbitrary code during unpickling (See https://github.com/pytorch/pytorch/blob/main/SECURITY.md#untrusted-models for more details). In a future release, the default value for `weights_only` will be flipped to `True`. This limits the functions that could be executed during unpickling. Arbitrary objects will no longer be allowed to be loaded via this mode unless they are explicitly allowlisted by the user via `torch.serialization.add_safe_globals`. We recommend you start setting `weights_only=True` for any use case where you don't have full control of the loaded file. Please open an issue on GitHub for any issues related to this experimental feature.\n",
            "  self.ESPCN.load_state_dict(torch.load(model_path, dev))\n",
            "/content/PixelRL-SR/State.py:31: FutureWarning: You are using `torch.load` with `weights_only=False` (the current default value), which uses the default pickle module implicitly. It is possible to construct malicious pickle data which will execute arbitrary code during unpickling (See https://github.com/pytorch/pytorch/blob/main/SECURITY.md#untrusted-models for more details). In a future release, the default value for `weights_only` will be flipped to `True`. This limits the functions that could be executed during unpickling. Arbitrary objects will no longer be allowed to be loaded via this mode unless they are explicitly allowlisted by the user via `torch.serialization.add_safe_globals`. We recommend you start setting `weights_only=True` for any use case where you don't have full control of the loaded file. Please open an issue on GitHub for any issues related to this experimental feature.\n",
            "  self.VDSR.load_state_dict(torch.load(model_path, dev))\n"
          ]
        }
      ],
      "source": [
        "# Train model x2\n",
        "!rm -rf dataset/*npy\n",
        "!python train.py --scale=2              \\\n",
        "                 --steps=2000           \\\n",
        "                 --batch-size=64        \\\n",
        "                 --save-every=50        \\\n",
        "                 --save-log=0           \\\n",
        "                 --ckpt-dir=\"checkpoint/x2\"\n"
      ]
    },
    {
      "cell_type": "code",
      "execution_count": null,
      "metadata": {
        "id": "dSyUXq6VKruM"
      },
      "outputs": [],
      "source": [
        "# Train model x3\n",
        "!rm -rf dataset/*npy\n",
        "!python train.py --scale=3              \\\n",
        "                 --steps=2000           \\\n",
        "                 --batch-size=64        \\\n",
        "                 --save-every=50        \\\n",
        "                 --save-log=0           \\\n",
        "                 --ckpt-dir=\"checkpoint/x3\""
      ]
    },
    {
      "cell_type": "code",
      "execution_count": null,
      "metadata": {
        "id": "BNJdKeDoKHne"
      },
      "outputs": [],
      "source": [
        "# Train model x4\n",
        "!rm -rf dataset/*npy\n",
        "!python train.py --scale=4              \\\n",
        "                 --steps=2000           \\\n",
        "                 --batch-size=64        \\\n",
        "                 --save-every=50        \\\n",
        "                 --save-log=0           \\\n",
        "                 --ckpt-dir=\"checkpoint/x4\""
      ]
    },
    {
      "cell_type": "markdown",
      "metadata": {
        "id": "c0SMav9oKLlh"
      },
      "source": [
        "#**Test**"
      ]
    },
    {
      "cell_type": "code",
      "execution_count": null,
      "metadata": {
        "colab": {
          "base_uri": "https://localhost:8080/"
        },
        "id": "NiEtl9MOeCBM",
        "outputId": "258ef513-f84e-4e01-c202-a36b9e6d5e4b"
      },
      "outputs": [
        {
          "name": "stdout",
          "output_type": "stream",
          "text": [
            "Average reward: 24.9894 - PSNR: 38.7633\n",
            "Average reward: 34.8964 - PSNR: 34.6700\n",
            "Average reward: 26.9405 - PSNR: 32.0406\n"
          ]
        }
      ],
      "source": [
        "# test on Set5\n",
        "!python test.py --scale=2 --ckpt-path=\"default\"\n",
        "!python test.py --scale=3 --ckpt-path=\"default\"\n",
        "!python test.py --scale=4 --ckpt-path=\"default\""
      ]
    },
    {
      "cell_type": "markdown",
      "metadata": {
        "id": "46wGFCHhMHs_"
      },
      "source": [
        "#**Demo**"
      ]
    },
    {
      "cell_type": "code",
      "execution_count": null,
      "metadata": {
        "id": "javbIvKMMJAl"
      },
      "outputs": [],
      "source": [
        "!python demo.py --scale=2           \\\n",
        "                --draw-action-map=0 \\\n",
        "                --image-path=\"dataset/test2.png\""
      ]
    },
    {
      "cell_type": "markdown",
      "metadata": {
        "id": "mXR3GIR_RumX"
      },
      "source": [
        "# **Dataset files**"
      ]
    },
    {
      "cell_type": "code",
      "execution_count": null,
      "metadata": {
        "id": "Y5PICMo-ThER"
      },
      "outputs": [],
      "source": [
        "%%writefile dataset-files.sh\n",
        "\n",
        "OPTION=$1\n",
        "DATASET_DIR=\"/content/PixelRL-SR/dataset\"\n",
        "DRIVE_DIR=\"/content/drive/MyDrive/PixelRL-SR\"\n",
        "SUBSETS=(\"train\" \"validation\")\n",
        "TYPE=(\"data\" \"labels\" \"bicubic\")\n",
        "\n",
        "mkdir -p ${DRIVE_DIR}\n",
        "for type in ${TYPE[*]}; do\n",
        "    for subset in ${SUBSETS[*]}; do\n",
        "        # copy all generated dataset files to your drive\n",
        "        if [ \"$OPTION\" == \"copy to drive\" ]; then\n",
        "            cp -vf ${DATASET_DIR}/${type}_${subset}.npy ${DRIVE_DIR}\n",
        "\n",
        "        # copy all saved dataset files from your drive to dataset directory\n",
        "        elif [ \"$OPTION\" == \"copy from drive\" ]; then\n",
        "            cp -vf ${DRIVE_DIR}/${type}_${subset}.npy   ${DATASET_DIR}\n",
        "\n",
        "        # delete all generated dataset files in dataset directory\n",
        "        elif [ \"${OPTION}\" == \"remove\" ]; then\n",
        "            rm -vf ${DATASET_DIR}/${type}_${subset}.npy\n",
        "        fi\n",
        "    done\n",
        "done"
      ]
    },
    {
      "cell_type": "code",
      "execution_count": null,
      "metadata": {
        "id": "1n2cLVMYUDx3"
      },
      "outputs": [],
      "source": [
        "# !bash dataset-files.sh \"copy to drive\"\n",
        "# !bash dataset-files.sh \"copy from drive\"\n",
        "# !bash dataset-files.sh \"remove\""
      ]
    },
    {
      "cell_type": "markdown",
      "metadata": {
        "id": "APDYH1_F6Rum"
      },
      "source": [
        "# **Checkpoint**"
      ]
    },
    {
      "cell_type": "code",
      "execution_count": null,
      "metadata": {
        "id": "UJu5zeBgtdDL"
      },
      "outputs": [],
      "source": [
        "%%writefile ckpt.sh\n",
        "OPTION=$1\n",
        "\n",
        "DRIVE_DIR=\"/content/drive/MyDrive/PixelRL-SR\"\n",
        "SRC=\"/content/PixelRL-SR/checkpoint\"\n",
        "DES=\"${DRIVE_DIR}/checkpoint\"\n",
        "SUBSETS=(\"x2\" \"x3\" \"x4\")\n",
        "\n",
        "mkdir -p ${DRIVE_DIR}\n",
        "for subset in ${SUBSETS[*]}; do\n",
        "    # remove all checkpoint files in sub-directories in checkpoint directory\n",
        "    if [ \"${OPTION}\" == \"remove\" ]; then\n",
        "        rm -vrf ${SRC}/${subset}\n",
        "        mkdir -p ${SRC}/${subset}\n",
        "\n",
        "    # copy all checkpoint directories to your drive\n",
        "    elif [ \"${OPTION}\" == \"copy to drive\" ]; then\n",
        "        mkdir -p ${DES}\n",
        "        mkdir -p ${DES}/${subset}\n",
        "        cp -vrf ${SRC}/${subset}/. ${DES}/${subset}\n",
        "\n",
        "    # copy all saved checkpoint files from your drive to checkpoint directory\n",
        "    elif [ \"${OPTION}\" == \"copy from drive\" ]; then\n",
        "        mkdir -p ${SRC}\n",
        "        mkdir -p ${SRC}/${subset}\n",
        "        cp -vrf ${DES}/${subset}/. ${SRC}/${subset}\n",
        "    fi\n",
        "\n",
        "done"
      ]
    },
    {
      "cell_type": "code",
      "execution_count": null,
      "metadata": {
        "id": "K3r9vXdj2pE3"
      },
      "outputs": [],
      "source": [
        "# !bash ckpt.sh \"copy from drive\"\n",
        "# !bash ckpt.sh \"copy to drive\"\n",
        "# !bash ckpt.sh \"remove\""
      ]
    }
  ],
  "metadata": {
    "accelerator": "GPU",
    "colab": {
      "name": "PixelRL-SR.ipynb",
      "provenance": [],
      "include_colab_link": true
    },
    "kernelspec": {
      "display_name": "Python 3",
      "name": "python3"
    },
    "language_info": {
      "name": "python"
    }
  },
  "nbformat": 4,
  "nbformat_minor": 0
}